{
 "cells": [
  {
   "cell_type": "markdown",
   "metadata": {},
   "source": [
    "# Southern Ocean temperature profile classifier\n",
    "\n",
    "This code classifies Southern Ocean (south of roughly 30°S) temperature profiles using the GMM model discussed in this work: https://eartharxiv.org/m64t7\n",
    "\n",
    "Given a set of temperature values on the pressure levels indicated in the file \"Depth_retained.csv\", the code in this notebook assigns class labels based on an eight-class GMM statistical model, the parameters of which have been fit using a subset of SO temperature profiles as deescribed in the preprint linked above. This notebook also returns posterior probabilities for each class and profile.\n",
    "\n",
    "Input: temperature values on pressure levels indicated in the file \"Depth_retained.csv\"\n",
    "\n",
    "Output: table of classes and maximum posterior probabilities and a selected temperature profile plot"
   ]
  },
  {
   "cell_type": "markdown",
   "metadata": {},
   "source": [
    "## Import modules"
   ]
  },
  {
   "cell_type": "code",
   "execution_count": 1,
   "metadata": {
    "collapsed": true
   },
   "outputs": [],
   "source": [
    "from sklearn import mixture\n",
    "from sklearn import preprocessing\n",
    "import matplotlib.pyplot as plt\n",
    "import numpy as np\n",
    "import pandas as pd\n",
    "import pickle"
   ]
  },
  {
   "cell_type": "markdown",
   "metadata": {},
   "source": [
    "## Load data"
   ]
  },
  {
   "cell_type": "code",
   "execution_count": 2,
   "metadata": {
    "collapsed": true
   },
   "outputs": [],
   "source": [
    "# load object for standardizing profiles by vertical level\n",
    "scale = pickle.load( open( \"Scale_object.pkl\", \"rb\" ) )\n",
    "# load object for dimension reduction using PCA\n",
    "pca = pickle.load( open( \"PCA_object.pkl\", \"rb\" ) )\n",
    "# load object for GMM classification\n",
    "gmm = pickle.load( open( \"GMM_object.pkl\", \"rb\" ) )\n",
    "\n",
    "# get pressure levels on which temperature is defined\n",
    "pressures = pd.read_csv(\"Depth_retained.csv\")\n",
    "\n",
    "# get sample profiles from CSV\n",
    "dfSample = pd.read_csv(\"sample_profiles.csv\")"
   ]
  },
  {
   "cell_type": "markdown",
   "metadata": {},
   "source": [
    "## Transform data using standardization, PCA, then apply GMM"
   ]
  },
  {
   "cell_type": "markdown",
   "metadata": {},
   "source": [
    "Below, we use the \"scale\", \"pca\", and \"gmm\" objects to transform and classify the data. To create a new statistical model, use the \"fit\" methods associated with the scaler, pca, and gmm objects [e.g. gmm.fit(X)]. For example code, see the source code in this repository.  \n",
    "\n",
    "GMM returns class labels that are unsorted. The dictionary below maps unsorted class labels to class labels that have been sorted by the mean temperature of all profiles in that class in the training dataset. "
   ]
  },
  {
   "cell_type": "code",
   "execution_count": 3,
   "metadata": {
    "collapsed": true
   },
   "outputs": [],
   "source": [
    "# map from unsorted to sorted properties\n",
    "# based on class mean temperatures\n",
    "mapping = {\n",
    "    1 : 1,\n",
    "    3 : 2,\n",
    "    6 : 3,\n",
    "    7 : 4,\n",
    "    4 : 5,\n",
    "    2 : 6,\n",
    "    0 : 7,\n",
    "    5 : 8,\n",
    "}\n",
    "\n",
    "# standardize data\n",
    "X = dfSample.values[:,1:].T\n",
    "Xscaled = scale.transform(X)\n",
    "# dimension reduction via PCA\n",
    "Xpca = pca.transform(Xscaled)\n",
    "# assign labels to each profile based on GMM classes\n",
    "labels_unsorted = gmm.predict(Xpca)\n",
    "# get posterior probabilities\n",
    "posteriors = gmm.predict_proba(Xpca)\n",
    "# class label is based on maximum posterior prob.\n",
    "ppmax = np.max(posteriors,axis=1)\n",
    "\n",
    "# sort labels based on class mean temperature properties\n",
    "labels_sorted = np.empty(labels_unsorted.size, dtype=int)\n",
    "for key, val in mapping.items():\n",
    "    labels_sorted[labels_unsorted == key] = val"
   ]
  },
  {
   "cell_type": "markdown",
   "metadata": {},
   "source": [
    "## Display results as a table"
   ]
  },
  {
   "cell_type": "code",
   "execution_count": 4,
   "metadata": {},
   "outputs": [
    {
     "data": {
      "text/html": [
       "<div>\n",
       "<style scoped>\n",
       "    .dataframe tbody tr th:only-of-type {\n",
       "        vertical-align: middle;\n",
       "    }\n",
       "\n",
       "    .dataframe tbody tr th {\n",
       "        vertical-align: top;\n",
       "    }\n",
       "\n",
       "    .dataframe thead th {\n",
       "        text-align: right;\n",
       "    }\n",
       "</style>\n",
       "<table border=\"1\" class=\"dataframe\">\n",
       "  <thead>\n",
       "    <tr style=\"text-align: right;\">\n",
       "      <th></th>\n",
       "      <th>Class</th>\n",
       "      <th>Max. post. prob.</th>\n",
       "    </tr>\n",
       "  </thead>\n",
       "  <tbody>\n",
       "    <tr>\n",
       "      <th>0</th>\n",
       "      <td>3</td>\n",
       "      <td>0.997914</td>\n",
       "    </tr>\n",
       "    <tr>\n",
       "      <th>1</th>\n",
       "      <td>7</td>\n",
       "      <td>0.994708</td>\n",
       "    </tr>\n",
       "    <tr>\n",
       "      <th>2</th>\n",
       "      <td>8</td>\n",
       "      <td>0.702473</td>\n",
       "    </tr>\n",
       "    <tr>\n",
       "      <th>3</th>\n",
       "      <td>1</td>\n",
       "      <td>0.775394</td>\n",
       "    </tr>\n",
       "    <tr>\n",
       "      <th>4</th>\n",
       "      <td>5</td>\n",
       "      <td>0.930772</td>\n",
       "    </tr>\n",
       "    <tr>\n",
       "      <th>5</th>\n",
       "      <td>4</td>\n",
       "      <td>0.556371</td>\n",
       "    </tr>\n",
       "    <tr>\n",
       "      <th>6</th>\n",
       "      <td>6</td>\n",
       "      <td>0.999997</td>\n",
       "    </tr>\n",
       "  </tbody>\n",
       "</table>\n",
       "</div>"
      ],
      "text/plain": [
       "   Class  Max. post. prob.\n",
       "0      3          0.997914\n",
       "1      7          0.994708\n",
       "2      8          0.702473\n",
       "3      1          0.775394\n",
       "4      5          0.930772\n",
       "5      4          0.556371\n",
       "6      6          0.999997"
      ]
     },
     "execution_count": 4,
     "metadata": {},
     "output_type": "execute_result"
    }
   ],
   "source": [
    "# display results (python indexing starts from 0)\n",
    "ls1 = pd.Series(labels_sorted)\n",
    "ps1 = pd.Series(ppmax)\n",
    "dfRes = pd.concat([ls1, ps1], axis=1)\n",
    "dfRes.rename(columns={0:\"Class\", 1:\"Max. post. prob.\"})"
   ]
  },
  {
   "cell_type": "markdown",
   "metadata": {},
   "source": [
    "The first column is an index that starts from zero (python indexing convention). It corresponds to \"iplot\" in the sample plotting code below. The second column is the class label assigned by GMM, sorted by mean class temperature from the training dataset. The third column is the posterior probability, which ranges from 0 to 1. "
   ]
  },
  {
   "cell_type": "markdown",
   "metadata": {},
   "source": [
    "## Plot sample profiles"
   ]
  },
  {
   "cell_type": "markdown",
   "metadata": {},
   "source": [
    "Here we plot a single profile for visualisation purposes, along with its assigned class and posterior probability. Note that individual profiles may or may not resemble the mean profile of that class, as there is variability of profile structure within the classes."
   ]
  },
  {
   "cell_type": "code",
   "execution_count": 5,
   "metadata": {},
   "outputs": [
    {
     "data": {
      "image/png": "[encoded data removed]",
      "text/plain": [
       "<matplotlib.figure.Figure at 0x111d24400>"
      ]
     },
     "metadata": {},
     "output_type": "display_data"
    }
   ],
   "source": [
    "# plot example temperature profile\n",
    "iplot = 6\n",
    "iclass = labels_sorted[iplot]\n",
    "ipost = ppmax[iplot]\n",
    "plt.plot(X[iplot,:],pressures.values)\n",
    "\n",
    "# custom grid and axes\n",
    "ax = plt.gca()\n",
    "ax.invert_yaxis() \n",
    "plt.xlabel('Temperature (°C)')\n",
    "plt.ylabel('Pressure (dbar)')\n",
    "plt.xlim([-2, 20])\n",
    "ax.grid(True)\n",
    "\n",
    "# text box\n",
    "textstr = '\\n'.join((\n",
    "    r'Class = %i' % (iclass, ),\n",
    "    r'Posterior prob. = %.2f' % (ipost, )))\n",
    "props = dict(boxstyle='round', facecolor='wheat', alpha=0.2)\n",
    "# place a text box in upper left in axes coords\n",
    "ax.text(0.05, 0.95, textstr, transform=ax.transAxes, fontsize=14,\n",
    "        verticalalignment='top', bbox=props)\n",
    "\n",
    "# show plot\n",
    "plt.show()"
   ]
  },
  {
   "cell_type": "markdown",
   "metadata": {},
   "source": [
    "This particular profile (iplot=6) features a mixed layer of roughly uniform temperature in the top ~100m and a somewhat monotonic decrease in temperature with increasing pressure. It belongs to one of the warmer, subtropical classes (class 6). "
   ]
  },
  {
   "cell_type": "code",
   "execution_count": 6,
   "metadata": {},
   "outputs": [
    {
     "data": {
      "image/png": "[encoded data removed]",
      "text/plain": [
       "<matplotlib.figure.Figure at 0x11507dc88>"
      ]
     },
     "metadata": {},
     "output_type": "display_data"
    }
   ],
   "source": [
    "# plot example temperature profile\n",
    "iplot = 0\n",
    "iclass = labels_sorted[iplot]\n",
    "ipost = ppmax[iplot]\n",
    "plt.plot(X[iplot,:],pressures.values)\n",
    "\n",
    "# custom grid and axes\n",
    "ax = plt.gca()\n",
    "ax.invert_yaxis() \n",
    "plt.xlabel('Temperature (°C)')\n",
    "plt.ylabel('Pressure (dbar)')\n",
    "plt.xlim([-2, 20])\n",
    "ax.grid(True)\n",
    "\n",
    "# text box\n",
    "textstr = '\\n'.join((\n",
    "    r'Class = %i' % (iclass, ),\n",
    "    r'Posterior prob. = %.2f' % (ipost, )))\n",
    "props = dict(boxstyle='round', facecolor='wheat', alpha=0.2)\n",
    "# place a text box in upper left in axes coords\n",
    "ax.text(0.45, 0.95, textstr, transform=ax.transAxes, fontsize=14,\n",
    "        verticalalignment='top', bbox=props)\n",
    "\n",
    "# show plot\n",
    "plt.show()"
   ]
  },
  {
   "cell_type": "markdown",
   "metadata": {},
   "source": [
    "This profile (iprof=0) has been assigned to one of the relatively cool circumpolar classes (class 3) located roughly south of the Subantarctic Front. It features a temperature inversion (cooler near the surface, with a warmer layer in the interior) and roughly monotonic cooling below ~400 m."
   ]
  },
  {
   "cell_type": "code",
   "execution_count": 7,
   "metadata": {},
   "outputs": [
    {
     "data": {
      "image/png": "[encoded data removed]",
      "text/plain": [
       "<matplotlib.figure.Figure at 0x111cbaa58>"
      ]
     },
     "metadata": {},
     "output_type": "display_data"
    }
   ],
   "source": [
    "# plot example temperature profile\n",
    "iplot = 5\n",
    "iclass = labels_sorted[iplot]\n",
    "ipost = ppmax[iplot]\n",
    "plt.plot(X[iplot,:],pressures.values)\n",
    "\n",
    "# custom grid and axes\n",
    "ax = plt.gca()\n",
    "ax.invert_yaxis() \n",
    "plt.xlabel('Temperature (°C)')\n",
    "plt.ylabel('Pressure (dbar)')\n",
    "plt.xlim([-2, 20])\n",
    "ax.grid(True)\n",
    "\n",
    "# text box\n",
    "textstr = '\\n'.join((\n",
    "    r'Class = %i' % (iclass, ),\n",
    "    r'Posterior prob. = %.2f' % (ipost, )))\n",
    "props = dict(boxstyle='round', facecolor='wheat', alpha=0.2)\n",
    "# place a text box in upper left in axes coords\n",
    "ax.text(0.05, 0.95, textstr, transform=ax.transAxes, fontsize=14,\n",
    "        verticalalignment='top', bbox=props)\n",
    "\n",
    "# show plot\n",
    "plt.show()"
   ]
  },
  {
   "cell_type": "markdown",
   "metadata": {},
   "source": [
    "This sample profile (iplot=5) was difficult for GMM to classify, as shown by the low posterior probability (0.56). It features a mixed layer of uniform temperature and decreaasing temperatures with increasing pressure. The rate of change of temperature with pressure appears to decrease sharply around ~350 m or so."
   ]
  }
 ],
 "metadata": {
  "kernelspec": {
   "display_name": "Python 3",
   "language": "python",
   "name": "python3"
  },
  "language_info": {
   "codemirror_mode": {
    "name": "ipython",
    "version": 3
   },
   "file_extension": ".py",
   "mimetype": "text/x-python",
   "name": "python",
   "nbconvert_exporter": "python",
   "pygments_lexer": "ipython3",
   "version": "3.5.2"
  }
 },
 "nbformat": 4,
 "nbformat_minor": 2
}
